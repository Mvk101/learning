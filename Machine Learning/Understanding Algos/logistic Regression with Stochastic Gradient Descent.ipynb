{
 "cells": [
  {
   "cell_type": "markdown",
   "metadata": {},
   "source": [
    "### Imports"
   ]
  },
  {
   "cell_type": "code",
   "execution_count": 1,
   "metadata": {
    "collapsed": true
   },
   "outputs": [],
   "source": [
    "import numpy as np\n",
    "from pandas import DataFrame\n",
    "import matplotlib.pyplot as plt\n",
    "%matplotlib inline\n",
    "from math import exp"
   ]
  },
  {
   "cell_type": "markdown",
   "metadata": {},
   "source": [
    "### Variable Definition\n",
    "Inputs from [this site](http://machinelearningmastery.com/logistic-regression-tutorial-for-machine-learning/) to make it comparable"
   ]
  },
  {
   "cell_type": "code",
   "execution_count": 2,
   "metadata": {
    "collapsed": true
   },
   "outputs": [],
   "source": [
    "X1 = np.array([\n",
    "        2.7810836, \n",
    "        1.465489372, \n",
    "        3.396561688, \n",
    "        1.38807019, \n",
    "        3.06407232, \n",
    "        7.627531214, \n",
    "        5.332441248, \n",
    "        6.922596716, \n",
    "        8.675418651, \n",
    "        7.673756466])\n",
    "\n",
    "X2 = np.array([\n",
    "        2.550537003,\n",
    "        2.362125076,\n",
    "        4.400293529,\n",
    "        1.850220317,\n",
    "        3.005305973,\n",
    "        2.759262235,\n",
    "        2.088626775,\n",
    "        1.77106367,\n",
    "        0.2420686549,\n",
    "        3.508563011,\n",
    "    ])\n",
    "\n",
    "Y = np.array([0,0,0,0,0,1,1,1,1,1])"
   ]
  },
  {
   "cell_type": "markdown",
   "metadata": {},
   "source": [
    "### Format as Table (Pandas DataFrame)"
   ]
  },
  {
   "cell_type": "code",
   "execution_count": 3,
   "metadata": {
    "collapsed": false,
    "scrolled": true
   },
   "outputs": [
    {
     "data": {
      "text/html": [
       "<div>\n",
       "<table border=\"1\" class=\"dataframe\">\n",
       "  <thead>\n",
       "    <tr style=\"text-align: right;\">\n",
       "      <th></th>\n",
       "      <th>X1</th>\n",
       "      <th>X2</th>\n",
       "      <th>Y</th>\n",
       "    </tr>\n",
       "  </thead>\n",
       "  <tbody>\n",
       "    <tr>\n",
       "      <th>0</th>\n",
       "      <td>2.781084</td>\n",
       "      <td>2.550537</td>\n",
       "      <td>0</td>\n",
       "    </tr>\n",
       "    <tr>\n",
       "      <th>1</th>\n",
       "      <td>1.465489</td>\n",
       "      <td>2.362125</td>\n",
       "      <td>0</td>\n",
       "    </tr>\n",
       "    <tr>\n",
       "      <th>2</th>\n",
       "      <td>3.396562</td>\n",
       "      <td>4.400294</td>\n",
       "      <td>0</td>\n",
       "    </tr>\n",
       "    <tr>\n",
       "      <th>3</th>\n",
       "      <td>1.388070</td>\n",
       "      <td>1.850220</td>\n",
       "      <td>0</td>\n",
       "    </tr>\n",
       "    <tr>\n",
       "      <th>4</th>\n",
       "      <td>3.064072</td>\n",
       "      <td>3.005306</td>\n",
       "      <td>0</td>\n",
       "    </tr>\n",
       "    <tr>\n",
       "      <th>5</th>\n",
       "      <td>7.627531</td>\n",
       "      <td>2.759262</td>\n",
       "      <td>1</td>\n",
       "    </tr>\n",
       "    <tr>\n",
       "      <th>6</th>\n",
       "      <td>5.332441</td>\n",
       "      <td>2.088627</td>\n",
       "      <td>1</td>\n",
       "    </tr>\n",
       "    <tr>\n",
       "      <th>7</th>\n",
       "      <td>6.922597</td>\n",
       "      <td>1.771064</td>\n",
       "      <td>1</td>\n",
       "    </tr>\n",
       "    <tr>\n",
       "      <th>8</th>\n",
       "      <td>8.675419</td>\n",
       "      <td>0.242069</td>\n",
       "      <td>1</td>\n",
       "    </tr>\n",
       "    <tr>\n",
       "      <th>9</th>\n",
       "      <td>7.673756</td>\n",
       "      <td>3.508563</td>\n",
       "      <td>1</td>\n",
       "    </tr>\n",
       "  </tbody>\n",
       "</table>\n",
       "</div>"
      ],
      "text/plain": [
       "         X1        X2  Y\n",
       "0  2.781084  2.550537  0\n",
       "1  1.465489  2.362125  0\n",
       "2  3.396562  4.400294  0\n",
       "3  1.388070  1.850220  0\n",
       "4  3.064072  3.005306  0\n",
       "5  7.627531  2.759262  1\n",
       "6  5.332441  2.088627  1\n",
       "7  6.922597  1.771064  1\n",
       "8  8.675419  0.242069  1\n",
       "9  7.673756  3.508563  1"
      ]
     },
     "execution_count": 3,
     "metadata": {},
     "output_type": "execute_result"
    }
   ],
   "source": [
    "d = {'X1': X1, 'X2': X2, 'Y' : Y}\n",
    "df = DataFrame(d)\n",
    "df"
   ]
  },
  {
   "cell_type": "markdown",
   "metadata": {},
   "source": [
    "### Plot data\n",
    "lower X1 values are labeled 0 and higher X1 values are labeled 1"
   ]
  },
  {
   "cell_type": "code",
   "execution_count": 4,
   "metadata": {
    "collapsed": false,
    "scrolled": true
   },
   "outputs": [
    {
     "data": {
      "text/plain": [
       "<matplotlib.collections.PathCollection at 0x119a37b10>"
      ]
     },
     "execution_count": 4,
     "metadata": {},
     "output_type": "execute_result"
    },
    {
     "data": {
      "image/png": "[encoded data removed]",
      "text/plain": [
       "<matplotlib.figure.Figure at 0x11432ab50>"
      ]
     },
     "metadata": {},
     "output_type": "display_data"
    }
   ],
   "source": [
    "plt.scatter(X1,X2,c=Y,s=150)"
   ]
  },
  {
   "cell_type": "markdown",
   "metadata": {},
   "source": [
    "### Function definition\n",
    "- the general logistic function\n",
    "- calculate the prediction for a row when you know all bs\n",
    "- update bs with the last prediction with complicated formula\n",
    "\n",
    "My interpretation of the update:  \n",
    "`b + alpha * (row['Y'] - prediction) * prediction * (1 - prediction) * x`  \n",
    "to the old value (b) add a small fraction (alpha) of the error (row['Y'] - prediction) of this try.  \n",
    "don't understand the rest of it completely: `prediction * (1 - prediction) * x`  "
   ]
  },
  {
   "cell_type": "code",
   "execution_count": 5,
   "metadata": {
    "collapsed": false
   },
   "outputs": [],
   "source": [
    "alpha = 0.3 #Steps to take to get closer\n",
    "\n",
    "def logistic_function(x):\n",
    "    return 1/(1+exp(-x))\n",
    "\n",
    "def get_prediction(row,b):\n",
    "    output = b[0] + row['X1'] * b[1] + row['X2'] * b[2]\n",
    "    prediction = logistic_function(output)\n",
    "    #print \"Prediction: \",prediction\n",
    "    return prediction\n",
    "\n",
    "def update_ceofficients(row,bs):\n",
    "    prediction = get_prediction(row,bs)\n",
    "    print \"Prediction: \",prediction\n",
    "    for i,b in enumerate(bs):\n",
    "        if i == 0:\n",
    "            x = 1\n",
    "        else:\n",
    "            x = row[i-1]\n",
    "        bs[i] = b + alpha * (row['Y'] - prediction) * prediction * (1 - prediction) * x\n",
    "        print (\"New B%i: %f\" %(i,bs[i]))\n",
    "    return bs\n",
    "        "
   ]
  },
  {
   "cell_type": "markdown",
   "metadata": {},
   "source": [
    "### Manual first tries of the algorithm\n",
    "start with the first row and 0s for all bs"
   ]
  },
  {
   "cell_type": "code",
   "execution_count": 6,
   "metadata": {
    "collapsed": false
   },
   "outputs": [
    {
     "name": "stdout",
     "output_type": "stream",
     "text": [
      "Prediction:  0.5\n"
     ]
    }
   ],
   "source": [
    "bs = [0,0,0]\n",
    "\n",
    "row = df.iloc[0,:]\n",
    "prediction = get_prediction(row,bs)\n",
    "print \"Prediction: \",prediction"
   ]
  },
  {
   "cell_type": "code",
   "execution_count": 7,
   "metadata": {
    "collapsed": false
   },
   "outputs": [
    {
     "name": "stdout",
     "output_type": "stream",
     "text": [
      "Prediction:  0.5\n",
      "New B0: -0.037500\n",
      "New B1: -0.104291\n",
      "New B2: -0.095645\n"
     ]
    }
   ],
   "source": [
    "bs = update_ceofficients(row,bs)"
   ]
  },
  {
   "cell_type": "markdown",
   "metadata": {},
   "source": [
    "#### second row:"
   ]
  },
  {
   "cell_type": "code",
   "execution_count": 8,
   "metadata": {
    "collapsed": false
   },
   "outputs": [
    {
     "name": "stdout",
     "output_type": "stream",
     "text": [
      "Prediction:  0.397411423273\n",
      "New B0: -0.066051\n",
      "New B1: -0.146132\n",
      "New B2: -0.163086\n"
     ]
    }
   ],
   "source": [
    "row = df.iloc[1,:]\n",
    "bs = update_ceofficients(row,bs)"
   ]
  },
  {
   "cell_type": "markdown",
   "metadata": {},
   "source": [
    "### Actual algorithm\n",
    "iterate through the whole dataset epochs times"
   ]
  },
  {
   "cell_type": "code",
   "execution_count": 9,
   "metadata": {
    "collapsed": false,
    "scrolled": true
   },
   "outputs": [
    {
     "name": "stdout",
     "output_type": "stream",
     "text": [
      "Prediction:  0.5\n",
      "New B0: -0.037500\n",
      "New B1: -0.104291\n",
      "New B2: -0.095645\n",
      "Prediction:  0.397411423273\n",
      "New B0: -0.066051\n",
      "New B1: -0.146132\n",
      "New B2: -0.163086\n",
      "Prediction:  0.217545899385\n",
      "New B0: -0.077160\n",
      "New B1: -0.183865\n",
      "New B2: -0.211970\n",
      "Prediction:  0.326387638068\n",
      "New B0: -0.098688\n",
      "New B1: -0.213747\n",
      "New B2: -0.251801\n",
      "Prediction:  0.180884886062\n",
      "New B0: -0.106728\n",
      "New B1: -0.238383\n",
      "New B2: -0.275965\n",
      "Prediction:  0.0637770219106\n",
      "New B0: -0.089958\n",
      "New B1: -0.110466\n",
      "New B2: -0.229691\n",
      "Prediction:  0.238894578754\n",
      "New B0: -0.048442\n",
      "New B1: 0.110916\n",
      "New B2: -0.142979\n",
      "Prediction:  0.614475295653\n",
      "New B0: -0.021043\n",
      "New B1: 0.300587\n",
      "New B2: -0.094454\n",
      "Prediction:  0.928495673675\n",
      "New B0: -0.019619\n",
      "New B1: 0.312942\n",
      "New B2: -0.094109\n",
      "Prediction:  0.886112622069\n",
      "New B0: -0.016171\n",
      "New B1: 0.339401\n",
      "New B2: -0.082012\n",
      "Prediction:  0.672289132447\n",
      "New B0: -0.060606\n",
      "New B1: 0.215824\n",
      "New B2: -0.195345\n",
      "Prediction:  0.44874385574\n",
      "New B0: -0.093908\n",
      "New B1: 0.167020\n",
      "New B2: -0.274009\n",
      "Prediction:  0.324682988997\n",
      "New B0: -0.115265\n",
      "New B1: 0.094478\n",
      "New B2: -0.367987\n",
      "Prediction:  0.339621681115\n",
      "New B0: -0.138116\n",
      "New B1: 0.062759\n",
      "New B2: -0.410267\n",
      "Prediction:  0.235269120317\n",
      "New B0: -0.150815\n",
      "New B1: 0.023850\n",
      "New B2: -0.448430\n",
      "Prediction:  0.230367299841\n",
      "New B0: -0.109879\n",
      "New B1: 0.336093\n",
      "New B2: -0.335476\n",
      "Prediction:  0.727431978104\n",
      "New B0: -0.093666\n",
      "New B1: 0.422548\n",
      "New B2: -0.301613\n",
      "Prediction:  0.908651979083\n",
      "New B0: -0.091391\n",
      "New B1: 0.438294\n",
      "New B2: -0.297585\n",
      "Prediction:  0.974393257492\n",
      "New B0: -0.091199\n",
      "New B1: 0.439957\n",
      "New B2: -0.297538\n",
      "Prediction:  0.903870788938\n",
      "New B0: -0.088694\n",
      "New B1: 0.459186\n",
      "New B2: -0.288747\n",
      "Prediction:  0.611086475978\n",
      "New B0: -0.132263\n",
      "New B1: 0.338016\n",
      "New B2: -0.399871\n",
      "Prediction:  0.358599004232\n",
      "New B0: -0.157007\n",
      "New B1: 0.301754\n",
      "New B2: -0.458320\n",
      "Prediction:  0.240704378307\n",
      "New B0: -0.170204\n",
      "New B1: 0.256927\n",
      "New B2: -0.516394\n",
      "Prediction:  0.31669248376\n",
      "New B0: -0.190764\n",
      "New B1: 0.228389\n",
      "New B2: -0.554433\n",
      "Prediction:  0.239175448143\n",
      "New B0: -0.203821\n",
      "New B1: 0.188382\n",
      "New B2: -0.593673\n",
      "Prediction:  0.400103762532\n",
      "New B0: -0.160625\n",
      "New B1: 0.517863\n",
      "New B2: -0.474483\n",
      "Prediction:  0.833387620286\n",
      "New B0: -0.153684\n",
      "New B1: 0.554872\n",
      "New B2: -0.459988\n",
      "Prediction:  0.946485455532\n",
      "New B0: -0.152871\n",
      "New B1: 0.560501\n",
      "New B2: -0.458547\n",
      "Prediction:  0.990035478421\n",
      "New B0: -0.152842\n",
      "New B1: 0.560757\n",
      "New B2: -0.458540\n",
      "Prediction:  0.926997185077\n",
      "New B0: -0.151359\n",
      "New B1: 0.572130\n",
      "New B2: -0.453340\n",
      "Prediction:  0.57040933125\n",
      "New B0: -0.193292\n",
      "New B1: 0.455513\n",
      "New B2: -0.560290\n",
      "Prediction:  0.299596855665\n",
      "New B0: -0.212152\n",
      "New B1: 0.427873\n",
      "New B2: -0.604840\n",
      "Prediction:  0.194610265561\n",
      "New B0: -0.221303\n",
      "New B1: 0.396792\n",
      "New B2: -0.645106\n",
      "Prediction:  0.296480106188\n",
      "New B0: -0.239855\n",
      "New B1: 0.371041\n",
      "New B2: -0.679431\n",
      "Prediction:  0.241429556318\n",
      "New B0: -0.253119\n",
      "New B1: 0.330397\n",
      "New B2: -0.719296\n",
      "Prediction:  0.570101791323\n",
      "New B0: -0.221511\n",
      "New B1: 0.571492\n",
      "New B2: -0.632080\n",
      "Prediction:  0.818431911697\n",
      "New B0: -0.213416\n",
      "New B1: 0.614655\n",
      "New B2: -0.615174\n",
      "Prediction:  0.950361726103\n",
      "New B0: -0.212714\n",
      "New B1: 0.619518\n",
      "New B2: -0.613929\n",
      "Prediction:  0.993394672228\n",
      "New B0: -0.212701\n",
      "New B1: 0.619631\n",
      "New B2: -0.613926\n",
      "Prediction:  0.915922789743\n",
      "New B0: -0.210758\n",
      "New B1: 0.634536\n",
      "New B2: -0.607111\n",
      "Prediction:  0.501370082282\n",
      "New B0: -0.248361\n",
      "New B1: 0.529961\n",
      "New B2: -0.703018\n",
      "Prediction:  0.243732280677\n",
      "New B0: -0.261839\n",
      "New B1: 0.510209\n",
      "New B2: -0.734854\n",
      "Prediction:  0.146482850854\n",
      "New B0: -0.267333\n",
      "New B1: 0.491547\n",
      "New B2: -0.759030\n",
      "Prediction:  0.271029726422\n",
      "New B0: -0.283398\n",
      "New B1: 0.469249\n",
      "New B2: -0.788753\n",
      "Prediction:  0.228635894798\n",
      "New B0: -0.295494\n",
      "New B1: 0.432183\n",
      "New B2: -0.825108\n",
      "Prediction:  0.673555450829\n",
      "New B0: -0.273961\n",
      "New B1: 0.596430\n",
      "New B2: -0.765691\n",
      "Prediction:  0.78704865401\n",
      "New B0: -0.263253\n",
      "New B1: 0.653527\n",
      "New B2: -0.743328\n",
      "Prediction:  0.949996727724\n",
      "New B0: -0.262541\n",
      "New B1: 0.658460\n",
      "New B2: -0.742066\n",
      "Prediction:  0.994883955154\n",
      "New B0: -0.262533\n",
      "New B1: 0.658528\n",
      "New B2: -0.742064\n",
      "Prediction:  0.89910066742\n",
      "New B0: -0.259787\n",
      "New B1: 0.679600\n",
      "New B2: -0.732429\n",
      "Prediction:  0.440816416003\n",
      "New B0: -0.292385\n",
      "New B1: 0.588942\n",
      "New B2: -0.815571\n",
      "Prediction:  0.204927346248\n",
      "New B0: -0.302402\n",
      "New B1: 0.574263\n",
      "New B2: -0.839232\n",
      "Prediction:  0.114583842191\n",
      "New B0: -0.305889\n",
      "New B1: 0.562417\n",
      "New B2: -0.854578\n",
      "Prediction:  0.248547721157\n",
      "New B0: -0.319816\n",
      "New B1: 0.543086\n",
      "New B2: -0.880345\n",
      "Prediction:  0.213918153693\n",
      "New B0: -0.330607\n",
      "New B1: 0.510020\n",
      "New B2: -0.912777\n",
      "Prediction:  0.739042080059\n",
      "New B0: -0.315509\n",
      "New B1: 0.625184\n",
      "New B2: -0.871117\n",
      "Prediction:  0.76831288139\n",
      "New B0: -0.303136\n",
      "New B1: 0.691160\n",
      "New B2: -0.845275\n",
      "Prediction:  0.951866770902\n",
      "New B0: -0.302475\n",
      "New B1: 0.695740\n",
      "New B2: -0.844103\n",
      "Prediction:  0.996045869388\n",
      "New B0: -0.302470\n",
      "New B1: 0.695781\n",
      "New B2: -0.844102\n",
      "Prediction:  0.888468949118\n",
      "New B0: -0.299155\n",
      "New B1: 0.721224\n",
      "New B2: -0.832469\n",
      "Prediction:  0.397326871283\n",
      "New B0: -0.327697\n",
      "New B1: 0.641843\n",
      "New B2: -0.905269\n",
      "Prediction:  0.178661494852\n",
      "New B0: -0.335563\n",
      "New B1: 0.630317\n",
      "New B2: -0.923848\n",
      "Prediction:  0.0945029235694\n",
      "New B0: -0.337989\n",
      "New B1: 0.622077\n",
      "New B2: -0.934523\n",
      "Prediction:  0.230839689659\n",
      "New B0: -0.350285\n",
      "New B1: 0.605009\n",
      "New B2: -0.957273\n",
      "Prediction:  0.202072527288\n",
      "New B0: -0.360059\n",
      "New B1: 0.575059\n",
      "New B2: -0.986649\n",
      "Prediction:  0.786473725639\n",
      "New B0: -0.349302\n",
      "New B1: 0.657112\n",
      "New B2: -0.956966\n",
      "Prediction:  0.760598273661\n",
      "New B0: -0.336224\n",
      "New B1: 0.726848\n",
      "New B2: -0.929652\n",
      "Prediction:  0.954738332646\n",
      "New B0: -0.335637\n",
      "New B1: 0.730910\n",
      "New B2: -0.928613\n",
      "Prediction:  0.99692239679\n",
      "New B0: -0.335634\n",
      "New B1: 0.730934\n",
      "New B2: -0.928612\n",
      "Prediction:  0.882392423015\n",
      "New B0: -0.331973\n",
      "New B1: 0.759031\n",
      "New B2: -0.915765\n",
      "Prediction:  0.364302787503\n",
      "New B0: -0.357283\n",
      "New B1: 0.688641\n",
      "New B2: -0.980320\n",
      "Prediction:  0.159262533195\n",
      "New B0: -0.363681\n",
      "New B1: 0.679266\n",
      "New B2: -0.995432\n",
      "Prediction:  0.0804162961631\n",
      "New B0: -0.365465\n",
      "New B1: 0.673206\n",
      "New B2: -1.003282\n",
      "Prediction:  0.216310196227\n",
      "New B0: -0.376465\n",
      "New B1: 0.657937\n",
      "New B2: -1.023636\n",
      "Prediction:  0.192035420291\n",
      "New B0: -0.385404\n",
      "New B1: 0.630548\n",
      "New B2: -1.050499\n",
      "Prediction:  0.821349180262\n",
      "New B0: -0.377540\n",
      "New B1: 0.690533\n",
      "New B2: -1.028800\n",
      "Prediction:  0.760588201619\n",
      "New B0: -0.364461\n",
      "New B1: 0.760274\n",
      "New B2: -1.001483\n",
      "Prediction:  0.957908910641\n",
      "New B0: -0.363952\n",
      "New B1: 0.763798\n",
      "New B2: -1.000582\n",
      "Prediction:  0.997576480548\n",
      "New B0: -0.363950\n",
      "New B1: 0.763813\n",
      "New B2: -1.000581\n",
      "Prediction:  0.879400573006\n",
      "New B0: -0.360113\n",
      "New B1: 0.793258\n",
      "New B2: -0.987119\n",
      "Prediction:  0.338121024174\n",
      "New B0: -0.382814\n",
      "New B1: 0.730125\n",
      "New B2: -1.045018\n",
      "Prediction:  0.144144164426\n",
      "New B0: -0.388149\n",
      "New B1: 0.722307\n",
      "New B2: -1.057620\n",
      "Prediction:  0.0698739883809\n",
      "New B0: -0.389511\n",
      "New B1: 0.717679\n",
      "New B2: -1.063615\n",
      "Prediction:  0.204038329885\n",
      "New B0: -0.399453\n",
      "New B1: 0.703880\n",
      "New B2: -1.082008\n",
      "Prediction:  0.183250747484\n",
      "New B0: -0.407681\n",
      "New B1: 0.678669\n",
      "New B2: -1.106736\n",
      "Prediction:  0.847498207302\n",
      "New B0: -0.401768\n",
      "New B1: 0.723771\n",
      "New B2: -1.090420\n",
      "Prediction:  0.764986576266\n",
      "New B0: -0.389092\n",
      "New B1: 0.791361\n",
      "New B2: -1.063946\n",
      "Prediction:  0.961016988443\n",
      "New B0: -0.388654\n",
      "New B1: 0.794394\n",
      "New B2: -1.063170\n",
      "Prediction:  0.998064956545\n",
      "New B0: -0.388653\n",
      "New B1: 0.794404\n",
      "New B2: -1.063170\n",
      "Prediction:  0.878383513104\n",
      "New B0: -0.384755\n",
      "New B1: 0.824313\n",
      "New B2: -1.049495\n",
      "Prediction:  0.316684788964\n",
      "New B0: -0.405314\n",
      "New B1: 0.767137\n",
      "New B2: -1.101931\n",
      "Prediction:  0.131932153585\n",
      "New B0: -0.409847\n",
      "New B1: 0.760494\n",
      "New B2: -1.112638\n",
      "Prediction:  0.0616461000527\n",
      "New B0: -0.410917\n",
      "New B1: 0.756861\n",
      "New B2: -1.117346\n",
      "Prediction:  0.193460862532\n",
      "New B0: -0.419973\n",
      "New B1: 0.744290\n",
      "New B2: -1.134101\n",
      "Prediction:  0.175413686055\n",
      "New B0: -0.427585\n",
      "New B1: 0.720967\n",
      "New B2: -1.156977\n",
      "Prediction:  0.867520838841\n",
      "New B0: -0.423017\n",
      "New B1: 0.755808\n",
      "New B2: -1.144373\n",
      "Prediction:  0.771555196317\n",
      "New B0: -0.410937\n",
      "New B1: 0.820221\n",
      "New B2: -1.119144\n",
      "Prediction:  0.963912276416\n",
      "New B0: -0.410561\n",
      "New B1: 0.822828\n",
      "New B2: -1.118477\n",
      "Prediction:  0.998433071052\n",
      "New B0: -0.410560\n",
      "New B1: 0.822835\n",
      "New B2: -1.118477\n",
      "Prediction:  0.878619941962\n",
      "New B0: -0.406677\n",
      "New B1: 0.852635\n",
      "New B2: -1.104851\n"
     ]
    }
   ],
   "source": [
    "bs = [0,0,0]\n",
    "epochs = 10\n",
    "\n",
    "for epoch in range(epochs):\n",
    "    for row in range(len(df)):\n",
    "        row = df.iloc[row,:]\n",
    "        bs = update_ceofficients(row,bs)"
   ]
  },
  {
   "cell_type": "markdown",
   "metadata": {},
   "source": [
    "### Result Bs:"
   ]
  },
  {
   "cell_type": "code",
   "execution_count": 10,
   "metadata": {
    "collapsed": false,
    "scrolled": false
   },
   "outputs": [
    {
     "name": "stdout",
     "output_type": "stream",
     "text": [
      "Last B0: -0.406677\n",
      "Last B1: 0.852635\n",
      "Last B2: -1.104851\n"
     ]
    }
   ],
   "source": [
    "for i,b in enumerate(bs):\n",
    "    print (\"Last B%i: %f\" %(i,b))"
   ]
  },
  {
   "cell_type": "markdown",
   "metadata": {},
   "source": [
    "### Get Prediction with latest Bs and translate to label"
   ]
  },
  {
   "cell_type": "code",
   "execution_count": 11,
   "metadata": {
    "collapsed": false
   },
   "outputs": [
    {
     "name": "stdout",
     "output_type": "stream",
     "text": [
      "Prediction for row 0: 0.298722 | predicted label: 0 | original label: 0\n",
      "Prediction for row 1: 0.145923 | predicted label: 0 | original label: 0\n",
      "Prediction for row 2: 0.085308 | predicted label: 0 | original label: 0\n",
      "Prediction for row 3: 0.219706 | predicted label: 0 | original label: 0\n",
      "Prediction for row 4: 0.247022 | predicted label: 0 | original label: 0\n",
      "Prediction for row 5: 0.954707 | predicted label: 1 | original label: 1\n",
      "Prediction for row 6: 0.862039 | predicted label: 1 | original label: 1\n",
      "Prediction for row 7: 0.971778 | predicted label: 1 | original label: 1\n",
      "Prediction for row 8: 0.998798 | predicted label: 1 | original label: 1\n",
      "Prediction for row 9: 0.905492 | predicted label: 1 | original label: 1\n"
     ]
    }
   ],
   "source": [
    "labels = []\n",
    "for rowNumber in range(len(df)):\n",
    "        row = df.iloc[rowNumber,:]\n",
    "        prediction = get_prediction(row,bs)\n",
    "        if prediction > 0.5:\n",
    "            labels.append(1)\n",
    "        else:\n",
    "            labels.append(0)\n",
    "        print (\"Prediction for row %i: %f | predicted label: %i | original label: %i\" %(rowNumber,prediction,labels[rowNumber],row['Y']))"
   ]
  },
  {
   "cell_type": "code",
   "execution_count": null,
   "metadata": {
    "collapsed": true
   },
   "outputs": [],
   "source": []
  }
 ],
 "metadata": {
  "kernelspec": {
   "display_name": "Python 2",
   "language": "python",
   "name": "python2"
  },
  "language_info": {
   "codemirror_mode": {
    "name": "ipython",
    "version": 2
   },
   "file_extension": ".py",
   "mimetype": "text/x-python",
   "name": "python",
   "nbconvert_exporter": "python",
   "pygments_lexer": "ipython2",
   "version": "2.7.13"
  }
 },
 "nbformat": 4,
 "nbformat_minor": 0
}
