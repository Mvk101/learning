{
 "cells": [
  {
   "cell_type": "code",
   "execution_count": 83,
   "metadata": {
    "collapsed": true
   },
   "outputs": [],
   "source": [
    "import numpy as np\n",
    "import math\n",
    "\n",
    "n = 1000\n",
    "\n",
    "x1 = np.random.uniform(-4,4, n)\n",
    "x2 = np.random.random_integers(-4, 4, n) \n",
    "e = np.random.normal(0,1,n)\n",
    "\n",
    "y = 0.5 + 2.5 * x1 + 4.5 * x2 + e\n"
   ]
  },
  {
   "cell_type": "code",
   "execution_count": 84,
   "metadata": {
    "collapsed": true
   },
   "outputs": [],
   "source": [
    "def target_function(paras, y, x1, x2):\n",
    "    f = y - paras[0] - paras[1] * x1 - paras[2] * x2\n",
    "    z = np.inner(f, f)\n",
    "    return z"
   ]
  },
  {
   "cell_type": "code",
   "execution_count": 96,
   "metadata": {
    "collapsed": true
   },
   "outputs": [],
   "source": [
    "def first_deriv(function, paras1, yy, xx1, xx2, numPar):\n",
    "    eps = 0.001\n",
    "    paras2 = paras1\n",
    "    paras2[numPar] += eps\n",
    "    deriv = ( function(paras2, yy, xx1, xx2) - function(paras1, yy, xx1, xx2) ) / eps\n",
    "    return deriv\n",
    "       "
   ]
  },
  {
   "cell_type": "code",
   "execution_count": 97,
   "metadata": {
    "collapsed": false
   },
   "outputs": [
    {
     "name": "stdout",
     "output_type": "stream",
     "text": [
      "[1.1999999999999786, 2.9999999999998899, 6.000000000000334]\n"
     ]
    }
   ],
   "source": [
    "b2 = [0.2, 2.0,  5.0]\n",
    "alpha = 0.01 # learning rate\n",
    "for i in range(1000):\n",
    "    for j in range(len(b2)):\n",
    "        d = first_deriv(target_function, b2, y, x1, x2, j)\n",
    "        b2[j] -=  alpha * d\n",
    "print(b2)"
   ]
  },
  {
   "cell_type": "code",
   "execution_count": null,
   "metadata": {
    "collapsed": true
   },
   "outputs": [],
   "source": []
  },
  {
   "cell_type": "code",
   "execution_count": null,
   "metadata": {
    "collapsed": true
   },
   "outputs": [],
   "source": []
  }
 ],
 "metadata": {
  "kernelspec": {
   "display_name": "Python 2",
   "language": "python",
   "name": "python2"
  },
  "language_info": {
   "codemirror_mode": {
    "name": "ipython",
    "version": 2
   },
   "file_extension": ".py",
   "mimetype": "text/x-python",
   "name": "python",
   "nbconvert_exporter": "python",
   "pygments_lexer": "ipython2",
   "version": "2.7.11"
  }
 },
 "nbformat": 4,
 "nbformat_minor": 0
}
